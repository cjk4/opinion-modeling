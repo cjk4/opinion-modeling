{
 "cells": [
  {
   "cell_type": "code",
   "execution_count": 31,
   "metadata": {},
   "outputs": [],
   "source": [
    "import networkx as nx\n",
    "import matplotlib.pyplot as plt\n",
    "import json"
   ]
  },
  {
   "cell_type": "code",
   "execution_count": 32,
   "metadata": {},
   "outputs": [],
   "source": [
    "# let's try to use this twitter dataset\n",
    "# it's in data/congress-twitter\n",
    "# https://www.ncbi.nlm.nih.gov/pmc/articles/PMC10493874/\n",
    "\n",
    "def load_congress_data_from_json(json_file_path):\n",
    "    with open(json_file_path, 'r') as file:\n",
    "        data = json.load(file)\n",
    "    data = data[0]\n",
    "\n",
    "    inList = data['inList']\n",
    "    inWeight = data['inWeight']\n",
    "    outList = data['outList']\n",
    "    outWeight = data['outWeight']\n",
    "    usernameList = data['usernameList']\n",
    "\n",
    "    return inList, inWeight, outList, outWeight, usernameList\n",
    "\n",
    "def create_congress_graph(inList, inWeight, outList, outWeight, usernameList):\n",
    "    G = nx.DiGraph()\n",
    "    for i, username in enumerate(usernameList):\n",
    "        G.add_node(i, username=username)\n",
    "    for i in range(len(inList)):\n",
    "        for j, in_node in enumerate(inList[i]):\n",
    "            G.add_edge(in_node, i, weight=inWeight[i][j])\n",
    "        for j, out_node in enumerate(outList[i]):\n",
    "            G.add_edge(i, out_node, weight=outWeight[i][j])\n",
    "    return G"
   ]
  },
  {
   "cell_type": "code",
   "execution_count": 38,
   "metadata": {},
   "outputs": [
    {
     "name": "stdout",
     "output_type": "stream",
     "text": [
      "DiGraph with 475 nodes and 13289 edges\n",
      "nice\n"
     ]
    }
   ],
   "source": [
    "inList, inWeight, outList, outWeight, usernameList = load_congress_data_from_json('data/congress-twitter/congress_network_data.json')\n",
    "G = create_congress_graph(inList, inWeight, outList, outWeight, usernameList)\n",
    "print(G)\n",
    "print('nice')"
   ]
  },
  {
   "cell_type": "code",
   "execution_count": null,
   "metadata": {},
   "outputs": [],
   "source": []
  }
 ],
 "metadata": {
  "kernelspec": {
   "display_name": "venv",
   "language": "python",
   "name": "python3"
  },
  "language_info": {
   "codemirror_mode": {
    "name": "ipython",
    "version": 3
   },
   "file_extension": ".py",
   "mimetype": "text/x-python",
   "name": "python",
   "nbconvert_exporter": "python",
   "pygments_lexer": "ipython3",
   "version": "3.9.6"
  }
 },
 "nbformat": 4,
 "nbformat_minor": 2
}
