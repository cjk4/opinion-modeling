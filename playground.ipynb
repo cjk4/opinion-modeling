{
 "cells": [
  {
   "cell_type": "code",
   "execution_count": 3,
   "metadata": {},
   "outputs": [],
   "source": [
    "import networkx as nx\n",
    "import matplotlib.pyplot as plt\n",
    "import json\n",
    "import numpy as np"
   ]
  },
  {
   "cell_type": "code",
   "execution_count": 4,
   "metadata": {},
   "outputs": [],
   "source": [
    "# let's try to use this twitter dataset\n",
    "# it's in data/congress-twitter\n",
    "# https://www.ncbi.nlm.nih.gov/pmc/articles/PMC10493874/\n",
    "\n",
    "def load_congress_data_from_json(json_file_path):\n",
    "    with open(json_file_path, 'r') as file:\n",
    "        data = json.load(file)\n",
    "    data = data[0]\n",
    "\n",
    "    inList = data['inList']\n",
    "    inWeight = data['inWeight']\n",
    "    outList = data['outList']\n",
    "    outWeight = data['outWeight']\n",
    "    usernameList = data['usernameList']\n",
    "\n",
    "    return inList, inWeight, outList, outWeight, usernameList\n",
    "\n",
    "def create_congress_graph(inList, inWeight, outList, outWeight, usernameList):\n",
    "    G = nx.DiGraph()\n",
    "    for i, username in enumerate(usernameList):\n",
    "        G.add_node(i, username=username)\n",
    "    for i in range(len(inList)):\n",
    "        for j, in_node in enumerate(inList[i]):\n",
    "            G.add_edge(in_node, i, weight=inWeight[i][j])\n",
    "        for j, out_node in enumerate(outList[i]):\n",
    "            G.add_edge(i, out_node, weight=outWeight[i][j])\n",
    "    return G"
   ]
  },
  {
   "cell_type": "code",
   "execution_count": 5,
   "metadata": {},
   "outputs": [
    {
     "name": "stdout",
     "output_type": "stream",
     "text": [
      "DiGraph with 475 nodes and 13289 edges\n"
     ]
    }
   ],
   "source": [
    "inList, inWeight, outList, outWeight, usernameList = load_congress_data_from_json('data/congress-twitter/congress_network_data.json')\n",
    "G = create_congress_graph(inList, inWeight, outList, outWeight, usernameList)\n",
    "print(G)"
   ]
  },
  {
   "cell_type": "code",
   "execution_count": 6,
   "metadata": {},
   "outputs": [
    {
     "name": "stdout",
     "output_type": "stream",
     "text": [
      "475\n",
      "13289\n",
      "{'username': 'SenatorBaldwin'}\n",
      "{'username': 'SenBlumenthal'}\n",
      "{'weight': 0.002105263157894737}\n",
      "{'weight': 0.0036496350364963502}\n"
     ]
    }
   ],
   "source": [
    "# sanity checks\n",
    "print(G.number_of_nodes())\n",
    "print(G.number_of_edges())\n",
    "\n",
    "# from congress.edgelist,\n",
    "# should be 0 4 {'weight': 0.002105263157894737}\n",
    "# and 4 0 {'weight': 0.0036496350364963502}\n",
    "print(G.nodes[0])\n",
    "print(G.nodes[4])\n",
    "print(G.get_edge_data(0, 4))\n",
    "print(G.get_edge_data(4, 0))"
   ]
  },
  {
   "cell_type": "code",
   "execution_count": 42,
   "metadata": {},
   "outputs": [],
   "source": [
    "# try implementing model from the community detection paper\n",
    "def community_detection(G, alpha=0.1, R=1.0, delta=0.2):\n",
    "    n = len(G.nodes())\n",
    "    x0 = np.random.rand(n) # generate random opinions\n",
    "    print('x0 =', x0)\n",
    "    x = x0.copy()\n",
    "    # in the future, let's use their method of generating opinions\n",
    "    rho = 1 - alpha*delta # rho is convergence rate\n",
    "    A = nx.to_numpy_array(G) # adjacency matrix\n",
    "\n",
    "    t = 0\n",
    "    while True:\n",
    "        t += 1\n",
    "        Ni = [np.where(A[i]!=0)[0] for i in range(n)] # compute neighbor sets\n",
    "\n",
    "        x_prev = x.copy()\n",
    "\n",
    "        if t % 10000 == 0:\n",
    "            print('t =', t)\n",
    "        # update opinions \n",
    "        for i in range(n):\n",
    "            if len(Ni[i]) > 0:\n",
    "                x[i] = x[i] + alpha * np.mean(x[Ni[i]] - x[i])\n",
    "                if t % 10000 == 0:\n",
    "                    print('x[{}] = {}'.format(i, x[i]))\n",
    "                    \n",
    "        if np.max(np.abs(x - x_prev)) < 1e-12:\n",
    "            print('converged at t =', t)\n",
    "            print('x =', x)\n",
    "            break\n",
    "        # update rho \n",
    "        rho *= rho\n",
    "    \n",
    "    x = [0.12741559, 0.1274119, 0.10524521, 0.17017279, 0.14870213, 0.17017279, 0.12741577, 0.12723148, 0.12716827, 0.12722516]\n",
    "    print('x =', x)\n",
    "    # generate final communities\n",
    "    communities = {}\n",
    "    for i, opinion in enumerate(x):\n",
    "        for key in communities.keys():\n",
    "            if abs(key - opinion) < 1e-4:\n",
    "                communities[key].append(i)\n",
    "                break\n",
    "        else:\n",
    "            communities[opinion] = [i]\n",
    "    communities_list = list(communities.values())\n",
    "    communities_list.sort(key=len, reverse=True)\n",
    "    return communities_list"
   ]
  },
  {
   "cell_type": "code",
   "execution_count": 43,
   "metadata": {},
   "outputs": [
    {
     "name": "stdout",
     "output_type": "stream",
     "text": [
      "x0 = [0.54917165 0.69575432 0.17767742 0.29325098 0.28559031 0.3181052\n",
      " 0.34854873 0.09052964 0.88956782 0.45996672]\n",
      "converged at t = 1246\n",
      "x = [0.22448668 0.22448668 0.17767742 0.3181052  0.27129594 0.3181052\n",
      " 0.22448668 0.22448668 0.22448668 0.22448668]\n",
      "x = [0.12741559, 0.1274119, 0.10524521, 0.17017279, 0.14870213, 0.17017279, 0.12741577, 0.12723148, 0.12716827, 0.12722516]\n",
      "[[0, 1, 6], [7, 8, 9], [3, 5], [2], [4]]\n"
     ]
    }
   ],
   "source": [
    "subgraph = G.subgraph([0, 4, 5, 6, 7, 8, 9, 10, 11, 12])\n",
    "communities = community_detection(subgraph)\n",
    "print(communities)"
   ]
  },
  {
   "cell_type": "code",
   "execution_count": null,
   "metadata": {},
   "outputs": [],
   "source": []
  }
 ],
 "metadata": {
  "kernelspec": {
   "display_name": "venv",
   "language": "python",
   "name": "python3"
  },
  "language_info": {
   "codemirror_mode": {
    "name": "ipython",
    "version": 3
   },
   "file_extension": ".py",
   "mimetype": "text/x-python",
   "name": "python",
   "nbconvert_exporter": "python",
   "pygments_lexer": "ipython3",
   "version": "3.9.6"
  }
 },
 "nbformat": 4,
 "nbformat_minor": 2
}
